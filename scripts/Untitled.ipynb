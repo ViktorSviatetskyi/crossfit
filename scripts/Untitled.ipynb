{
 "cells": [
  {
   "cell_type": "code",
   "execution_count": 5,
   "id": "21b950d5",
   "metadata": {},
   "outputs": [],
   "source": [
    "import os \n",
    "import django\n",
    "os.environ.setdefault('DJANGO_SETTINGS_MODULE', 'crossfit.settings')\n",
    "os.environ[\"DJANGO_ALLOW_ASYNC_UNSAFE\"] = \"true\"\n",
    "django.setup()\n",
    "\n",
    "from db.models import Task"
   ]
  },
  {
   "cell_type": "code",
   "execution_count": 6,
   "id": "d88a607d",
   "metadata": {},
   "outputs": [],
   "source": [
    "tasks = Task.objects.all()"
   ]
  },
  {
   "cell_type": "code",
   "execution_count": 11,
   "id": "3438cc09",
   "metadata": {},
   "outputs": [
    {
     "data": {
      "text/plain": [
       "<QuerySet [<Task: Task object (1)>]>"
      ]
     },
     "execution_count": 11,
     "metadata": {},
     "output_type": "execute_result"
    }
   ],
   "source": [
    "tasks.filter(author_id = 1)"
   ]
  },
  {
   "cell_type": "code",
   "execution_count": null,
   "id": "db978c57",
   "metadata": {},
   "outputs": [],
   "source": []
  }
 ],
 "metadata": {
  "kernelspec": {
   "display_name": "Django Shell-Plus",
   "language": "python",
   "name": "django_extensions"
  },
  "language_info": {
   "codemirror_mode": {
    "name": "ipython",
    "version": 3
   },
   "file_extension": ".py",
   "mimetype": "text/x-python",
   "name": "python",
   "nbconvert_exporter": "python",
   "pygments_lexer": "ipython3",
   "version": "3.10.1"
  }
 },
 "nbformat": 4,
 "nbformat_minor": 5
}
